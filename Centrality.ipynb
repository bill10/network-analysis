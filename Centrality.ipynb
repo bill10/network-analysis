{
 "cells": [
  {
   "cell_type": "markdown",
   "metadata": {
    "slideshow": {
     "slide_type": "slide"
    }
   },
   "source": [
    "## Centrality Measures\n",
    "\n",
    "How \"important\" is a node or an edge."
   ]
  },
  {
   "cell_type": "markdown",
   "metadata": {
    "slideshow": {
     "slide_type": "slide"
    }
   },
   "source": [
    "### Degree \n",
    "\n",
    "* Assess the popularity of nodes. \n",
    "* Not always the best centrality measure to use. (why?)"
   ]
  },
  {
   "cell_type": "markdown",
   "metadata": {
    "slideshow": {
     "slide_type": "notes"
    }
   },
   "source": [
    "Degree is the simplest measure of node centrality. It directly assesses the popularity of nodes. But it is not always the best centrality measure to use. (Can you think of a counter example?)\n",
    "\n",
    "Here we introduce an inventory of popular centrality measures. "
   ]
  },
  {
   "cell_type": "markdown",
   "metadata": {
    "slideshow": {
     "slide_type": "slide"
    }
   },
   "source": [
    "### Pagerank\n",
    "<img src='Images/google.png'>\n",
    "\n",
    "* Nodes pointed to by many other important nodes are themselves important. \n",
    "* Naturally defined for directed networks. \n"
   ]
  },
  {
   "cell_type": "markdown",
   "metadata": {
    "slideshow": {
     "slide_type": "notes"
    }
   },
   "source": [
    "Pagerank assumes a recursive definition of centrality or importance: nodes pointed to by many important nodes are themselves important. As pagerank was initially used to rank websites based on the hyperlinks between them, it was defined for directed networks; however, it generalizes to undirected and even weighted networks naturally through a random walk formulation."
   ]
  },
  {
   "cell_type": "markdown",
   "metadata": {
    "slideshow": {
     "slide_type": "subslide"
    }
   },
   "source": [
    "Given a network with $N$ nodes and $M$ edges, let \n",
    "* $A$ be its adjacency matrix, \n",
    "* $x$ be a $N\\times1$ vector denoting the pagerank scores for the nodes,\n",
    "* $x_i$ be the score for node $i$. \n",
    "\n",
    "By definition, the pagerank score for node $i$ depends on the scores of the nodes pointing to $i$:\n",
    "$$\n",
    "x_i = \\sum_{j\\rightarrow i} \\frac{x_j}{d_j},\n",
    "$$\n",
    "where $d_j$ is the degree of node $j$ (or out-degree for directed networks). "
   ]
  },
  {
   "cell_type": "markdown",
   "metadata": {
    "slideshow": {
     "slide_type": "notes"
    }
   },
   "source": [
    "Note that the score of a node $j$ in the above equation is divided by its degree before adding up to the score of node $i$. (Why doing this?) \n",
    "\n",
    "However, this Equation above is not the complete definition of pagerank, as it is not well-defined for nodes which no one points to."
   ]
  },
  {
   "cell_type": "markdown",
   "metadata": {
    "slideshow": {
     "slide_type": "subslide"
    }
   },
   "source": [
    "Adding a baseline score to each node, the most widely-used definition for pagerank is:\n",
    "$$\n",
    "x_i = \\alpha \\sum_{j\\rightarrow i} \\frac{x_j}{d_j} + \\frac{1-\\alpha}{N},\n",
    "$$\n",
    "* $\\frac{1}{N}$ is the baseline score given to each node.\n",
    "* $\\alpha$ is a parameter that weight the neighbors against the baseline.\n",
    "* $1-\\alpha$ is called the teleporting probability."
   ]
  },
  {
   "cell_type": "markdown",
   "metadata": {
    "slideshow": {
     "slide_type": "subslide"
    }
   },
   "source": [
    "Compactly in the matrix form:\n",
    "$$\n",
    "x = \\alpha A^T D x + \\frac{1-\\alpha}{N} 1,\n",
    "$$\n",
    "* $D$ is a diagonal matrix with $D_{ii}=1/d_i$.  \n",
    "* $1$ is the $N\\times1$ vector of all 1's."
   ]
  },
  {
   "cell_type": "markdown",
   "metadata": {
    "slideshow": {
     "slide_type": "subslide"
    }
   },
   "source": [
    "Letting $P=DA$, the pagerank scores satisfy the equation:\n",
    "$$\n",
    "(I - \\alpha P^T) x = \\frac{1-\\alpha}{N} 1.\n",
    "$$\n",
    "The pagerank scores can be found by directly solving the equation above or by iterative methods:\n",
    "$$\n",
    "x = (I - \\alpha P^T)^{-1} \\frac{1-\\alpha}{N} 1.\n",
    "$$"
   ]
  },
  {
   "cell_type": "markdown",
   "metadata": {
    "slideshow": {
     "slide_type": "subslide"
    }
   },
   "source": [
    "#### Random Walk Interpretation\n",
    "\n",
    "* Imagine a random surfer on the Internet.\n",
    "* At any given website, \n",
    "    * with probability $\\alpha$ pick a hyperlink at random and follow this link to the next website;\n",
    "    * with probability $1-\\alpha$ pick one random website and teleport to that website.\n",
    "* After an infinite amount of time, the fraction of time that the surfer spends on each node will converge to its pagerank score.\n",
    "* In other words, the pagerank score of a node is the probability that a random surfer will visit this node in the long run."
   ]
  },
  {
   "cell_type": "markdown",
   "metadata": {
    "slideshow": {
     "slide_type": "notes"
    }
   },
   "source": [
    "The pagerank centrality has a close connection to random walks on networks. The matrix $P$ in the equation above is the so called transition matrix of a random walk on the networks. Here is an tuitive picture.\n",
    "\n",
    "Imagine a random surfer on the Internet: at any given website, this surfer will pick a hyperlink on this website uniformly at random and follow this link to the next website. To avoid from being stuck at a website without any out-going links, this surfer adds one extra step: at any given website, with probability $\\alpha$ this surfer will pick a hyperlink randomly and follow this link to the next website, while with probability $1-\\alpha$ she randomly picks one from all the websites and teleport to that website. After an infinite amount of time, the fraction of time that the surfer spends on each node will converge to its pagerank score. In other words, the pagerank score of a node is the probability that a random surfer will visit this node in the long run. "
   ]
  },
  {
   "cell_type": "markdown",
   "metadata": {
    "slideshow": {
     "slide_type": "slide"
    }
   },
   "source": [
    "### Closeness\n",
    "\n",
    "* Assume that nodes which are closer to other nodes are more central and hence more important. \n",
    "* Nodes with high closeness are likely to be in the center of a network."
   ]
  },
  {
   "cell_type": "markdown",
   "metadata": {
    "slideshow": {
     "slide_type": "notes"
    }
   },
   "source": [
    "Closeness centrality assumes that nodes which are closer to other nodes in a network are more central in the network. Technically, the closeness of a node is the inverse of the average distance between the node and every other node in the network; hence, nodes with high closeness are likely to be in the center of a network."
   ]
  },
  {
   "cell_type": "markdown",
   "metadata": {
    "slideshow": {
     "slide_type": "subslide"
    }
   },
   "source": [
    "Given a network with $N$ nodes and $M$ edges, let \n",
    "* $d(i,j)$ be the graph distance between node $i$ and node $j$. In directed networks, the distance from $i$ to $j$ could be different than that from $j$ to $i$. \n",
    "* The closeness centrality for node $i$ is defined as:\n",
    "$$\n",
    "C(i) = \\frac{N-1} {\\sum_{j \\neq i} d(i,j)}.\n",
    "$$\n",
    "* If there is no path between $i$ and $j$, then $d(i,j)$ is set to $N$ by convention.\n",
    "* Use weighted path length for weighted networks."
   ]
  },
  {
   "cell_type": "markdown",
   "metadata": {
    "slideshow": {
     "slide_type": "notes"
    }
   },
   "source": [
    "For undirected networks, the distance from $i$ to $j$ is the same as the distance from $j$ to $i$ so there is no ambiguity in the definition of $d(i,j)$, but the two distances might be different for directed networks. One needs to decide which distance to use or use both distances separately.  \n",
    "\n",
    "If there is no path between nodes $i$ and $j$, then $d(i,j)$ is set to $N$ by convention. As mentioned before, the above equation also works for directed networks but the user needs to decide what is $d(i,j)$: the distance from $i$ to $j$ or from $j$ to $i$; or the user can try both versions separately and consider both in-closeness and out-closeness.\n",
    "This definition also generalizes to weighted networks naturally by substitute $d(i,j)$ with the weighted path length between $i$ and $j$."
   ]
  },
  {
   "cell_type": "markdown",
   "metadata": {
    "slideshow": {
     "slide_type": "subslide"
    }
   },
   "source": [
    "#### Computation Cost\n",
    "\n",
    "* Find the shortest paths between any pair of nodes: $O(N)$.\n",
    "* Number of pairs of nodes: $O(N^2)$\n",
    "* $O(N^3)$ in total. \n",
    "* There are smart algorithms to speed it up (Brandes' algorithm and Johnson's algorithm), but still expensive. \n",
    "* Only consider paths whose length are shorter than a certain threshold."
   ]
  },
  {
   "cell_type": "markdown",
   "metadata": {
    "slideshow": {
     "slide_type": "notes"
    }
   },
   "source": [
    "The computation of closeness is obviously time-consuming: you need to find all shortest paths between all pairs of nodes. There are algorithms that take advantage of the network structures (e.g., sparsity) to speed up the process such as Brandes' algorithm and Johnson's algorithm. However, doing so is still expensive for large networks. If needed, the computation can be further speed up by considering only paths whose lengths are shorter than a certain threshold, as the cost of accuracy. "
   ]
  },
  {
   "cell_type": "markdown",
   "metadata": {
    "slideshow": {
     "slide_type": "subslide"
    }
   },
   "source": [
    "####  Application \n",
    "\n",
    "Walk Score (www.walkscore.com)\n",
    "<img src='Images/walkscore.png'>"
   ]
  },
  {
   "cell_type": "markdown",
   "metadata": {
    "slideshow": {
     "slide_type": "slide"
    }
   },
   "source": [
    "### Betweenness\n",
    "\n",
    "* Assume that nodes or edges that sit on  many shortest paths are important.\n",
    "* Nodes or edges with high betweenness serve as gate-keepers or bridges between other nodes.\n",
    "* Defined for both nodes and edges.\n",
    "<img src='Images/betweenness.png'>"
   ]
  },
  {
   "cell_type": "markdown",
   "metadata": {
    "slideshow": {
     "slide_type": "notes"
    }
   },
   "source": [
    "Betweenness is a centrality measure for both nodes and edges. The measure assumes that nodes or edges that sit on  many shortest paths are important because they \"control\" the information or resource flow between other nodes and have access to otherwise disconnected groups. Hence, betweenness is a function of the shortest paths, and nodes or edges with high betweenness serve as gate-keepers or bridges between other nodes."
   ]
  },
  {
   "cell_type": "markdown",
   "metadata": {
    "slideshow": {
     "slide_type": "subslide"
    }
   },
   "source": [
    "* Given a network with $N$ nodes and $M$ edges, let\n",
    "    * $g_{ij}$ be the number of shortest paths from node $i$ to node $j$; \n",
    "    * $g_{ij}(u)$ be the number of shortest paths from nodes $i$ to $j$ that pass through $u$. \n",
    "* The betweenness for node $u$ is defined as:\n",
    "$$\n",
    "B(u) = \\sum_{i\\neq u}\\sum_{j\\neq u, j\\neq i} \\frac{g_{ij}(u)}{g_{ij}}.\n",
    "$$"
   ]
  },
  {
   "cell_type": "markdown",
   "metadata": {
    "slideshow": {
     "slide_type": "subslide"
    }
   },
   "source": [
    "Similarly, the betweenness for edge $e$ is defined as:\n",
    "$$\n",
    "B(e) = \\sum_{i} \\sum_{j\\neq i} \\frac{g_{ij}(e)}{g_{ij}},\n",
    "$$\n",
    "* $g_{ij}(e)$ is the number of shortest paths from nodes $i$ to $j$ that pass through edge $e$."
   ]
  },
  {
   "cell_type": "markdown",
   "metadata": {
    "slideshow": {
     "slide_type": "subslide"
    }
   },
   "source": [
    "#### Computation Cost\n",
    "\n",
    "* See closeness measure."
   ]
  },
  {
   "cell_type": "markdown",
   "metadata": {
    "slideshow": {
     "slide_type": "subslide"
    }
   },
   "source": [
    "#### Application\n",
    "\n",
    "Structure hole: \n",
    "* Burt, Ronald S. (1995). Structural Holes: The Social Structure of Competition. Cambridge: Harvard University Press\n",
    "<img src='Images/structuralhole.png' width='400'>"
   ]
  },
  {
   "cell_type": "markdown",
   "metadata": {
    "slideshow": {
     "slide_type": "slide"
    }
   },
   "source": [
    "### Example: Florentine Family Marriage Network\n",
    "\n",
    "All those centrality measures are implemented in igraph:"
   ]
  },
  {
   "cell_type": "code",
   "execution_count": 2,
   "metadata": {
    "slideshow": {
     "slide_type": "-"
    }
   },
   "outputs": [
    {
     "ename": "ERROR",
     "evalue": "Error in degree(G): could not find function \"degree\"\n",
     "output_type": "error",
     "traceback": [
      "Error in degree(G): could not find function \"degree\"\nTraceback:\n"
     ]
    }
   ],
   "source": [
    "nodes$degree = degree(G)\n",
    "nodes$pagerank = page_rank(G)$vector\n",
    "nodes$closeness = closeness(G, normalized=T)\n",
    "nodes$betweenness = betweenness(G, directed=F)\n",
    "edges$betweenness = edge_betweenness(G, directed=F)\n",
    "\n",
    "head(nodes)"
   ]
  },
  {
   "cell_type": "markdown",
   "metadata": {
    "slideshow": {
     "slide_type": "slide"
    }
   },
   "source": [
    "### Excercise: predict wealth with centralities"
   ]
  },
  {
   "cell_type": "markdown",
   "metadata": {
    "slideshow": {
     "slide_type": "subslide"
    }
   },
   "source": [
    "Check the relationships between the centrality measures"
   ]
  },
  {
   "cell_type": "code",
   "execution_count": null,
   "metadata": {
    "slideshow": {
     "slide_type": "-"
    }
   },
   "outputs": [],
   "source": [
    "pairs(nodes[,6:9])"
   ]
  },
  {
   "cell_type": "markdown",
   "metadata": {
    "slideshow": {
     "slide_type": "subslide"
    }
   },
   "source": [
    "Linear regression"
   ]
  }
 ],
 "metadata": {
  "celltoolbar": "Slideshow",
  "kernelspec": {
   "display_name": "R",
   "language": "R",
   "name": "ir"
  },
  "language_info": {
   "codemirror_mode": "r",
   "file_extension": ".r",
   "mimetype": "text/x-r-source",
   "name": "R",
   "pygments_lexer": "r",
   "version": "3.4.4"
  },
  "toc": {
   "toc_cell": false,
   "toc_number_sections": false,
   "toc_threshold": 4,
   "toc_window_display": false
  }
 },
 "nbformat": 4,
 "nbformat_minor": 2
}
