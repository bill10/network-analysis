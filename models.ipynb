{
 "cells": [
  {
   "cell_type": "markdown",
   "metadata": {
    "slideshow": {
     "slide_type": "slide"
    }
   },
   "source": [
    "## Random Network Models\n",
    "\n",
    "* Assess the probability distribution of network data\n",
    "* Simulate networks that resemble real networks in some properties but otherwise random"
   ]
  },
  {
   "cell_type": "markdown",
   "metadata": {
    "slideshow": {
     "slide_type": "slide"
    }
   },
   "source": [
    "### Stochastic Block Model\n",
    "<table>\n",
    "    <tr>\n",
    "        <td><img src='Images/sbm_matrix.png' width='400'></td>\n",
    "        <td><img src='Images/sbm_network.png'></td>\n",
    "    </tr>\n",
    "</table>"
   ]
  },
  {
   "cell_type": "markdown",
   "metadata": {
    "slideshow": {
     "slide_type": "subslide"
    }
   },
   "source": [
    "### Exponential Random Graph Model (ERGM)\n",
    "\n",
    "$$\n",
    "P(A=a)=\\frac{\\exp(c \\cdot x(a))}{k(c)},\n",
    "$$"
   ]
  },
  {
   "cell_type": "markdown",
   "metadata": {
    "slideshow": {
     "slide_type": "slide"
    }
   },
   "source": [
    "### Erdos-Renyi Random Networks\n",
    "\n",
    "* A uniform distribution on networks with the same numbers of nodes and edges.\n",
    "* A baseline model to assess whether observed network properties differ from random."
   ]
  },
  {
   "cell_type": "markdown",
   "metadata": {
    "slideshow": {
     "slide_type": "notes"
    }
   },
   "source": [
    "Analogous to the uniform distribution on numbers, the Erdos-Renyi random network model specifies a uniform distribution on networks with the same numbers of nodes and edges. Therefore, it is commonly used as a baseline model to assess whether observed network properties differ from random. One example is to examine if the observed network is more clustered than random. To do this, one can compute the clustering coefficient - how likely people who share common friends are themselves friends - of the observed network, simulate Erdos-Renyi random networks and compute their clustering coefficients, and compare the observed values with the random simulations."
   ]
  },
  {
   "cell_type": "markdown",
   "metadata": {
    "slideshow": {
     "slide_type": "subslide"
    }
   },
   "source": [
    "There are two variants of the model, $G(n,m)$ and $G(n,p)$\n",
    "* $G(n,m)$ model generates a random network with $n$ nodes and $m$ edges as the following:\n",
    "    * Starting from an empty network with $n$ nodes and no edges\n",
    "    * Choose $m$ distinct pairs of nodes at random\n",
    "    * Connect each pair with an edge\n",
    "* Equivalent to sampling from an uniform distribution on all networks with $n$ nodes and $m$ edges."
   ]
  },
  {
   "cell_type": "markdown",
   "metadata": {
    "slideshow": {
     "slide_type": "subslide"
    }
   },
   "source": [
    "* $G(n,p)$ model generates a random network with $n$ nodes\n",
    "    * Starting from an empty network with $n$ nodes and no edges\n",
    "    * For each pair of nodes, connect this pair with probability $p$\n",
    "    * The expected number of edges is $\\frac{n(n-1)}{2} p$.\n",
    "* Equivalent to sampling from $\\frac{n(n-1)}{2}$ Bernulli distributions with mean $p$."
   ]
  },
  {
   "cell_type": "markdown",
   "metadata": {
    "slideshow": {
     "slide_type": "subslide"
    }
   },
   "source": [
    "* The two variants are equivalent when $m=\\frac{n(n-1)}{2}p$ in the large network limit, i.e., as $n\\rightarrow\\infty$ and $pn^2\\rightarrow\\infty$.\n",
    "* $G(n,p)$ is usually used to prove theoretical properties because it can be represented by a simple binomial distribution.\n",
    "    * The degree distribution is $Binomial(n-1,p) \\approx Poisson((n-1)p)$.\n",
    "* $G(n,m)$ is often used as a baseline model for comparison for real networks since its numbers edges are pre-specified."
   ]
  },
  {
   "cell_type": "markdown",
   "metadata": {
    "slideshow": {
     "slide_type": "subslide"
    }
   },
   "source": [
    "#### Caveat\n",
    "\n",
    "* Both models assume that each pair of nodes behave independently. \n",
    "* A good theoretical model or a baseline, but not a good model for real networks. "
   ]
  },
  {
   "cell_type": "markdown",
   "metadata": {
    "slideshow": {
     "slide_type": "notes"
    }
   },
   "source": [
    "That is to say, if A and B are friends and B and C are friends, whether or not A and C are friends is completely random and does not depend on their relationships with B. We know that this is not true in real social networks, where friends' friends also tend to be friends. That is why the Erdos-Renyi random network is used as a theoretical model or a baseline, but not a model for real networks. "
   ]
  },
  {
   "cell_type": "code",
   "execution_count": null,
   "metadata": {
    "slideshow": {
     "slide_type": "subslide"
    }
   },
   "outputs": [],
   "source": [
    "network=erdos.renyi.game(N, M, type='gnm')"
   ]
  },
  {
   "cell_type": "markdown",
   "metadata": {
    "slideshow": {
     "slide_type": "slide"
    }
   },
   "source": [
    "### Configuration Model\n",
    "\n",
    "* Generate random networks with any given degree distribution.\n",
    "* A good model for real networks with heterogeneous degree distribution.\n",
    "* A uniform distribution on networks with the same degree sequence."
   ]
  },
  {
   "cell_type": "markdown",
   "metadata": {
    "slideshow": {
     "slide_type": "notes"
    }
   },
   "source": [
    "Different from the Erdos-Renyi random network model, the configuration model preserves the degree distribution observed in a real network, and hence it is the most commonly used null model in network analysis. Analogous to the uniform distribution on numbers, the configuration model specifies a uniform distribution on networks with the same degree sequence (or degree distribution). Therefore, it is a more realistic model than Erdos-Renyi. "
   ]
  },
  {
   "cell_type": "markdown",
   "metadata": {
    "slideshow": {
     "slide_type": "notes"
    }
   },
   "source": [
    "Since it is mostly used as a null model for analyzing real networks, the configuration model is defined as a randomization process of a given network. We discuss the details below."
   ]
  },
  {
   "cell_type": "markdown",
   "metadata": {
    "slideshow": {
     "slide_type": "subslide"
    }
   },
   "source": [
    "Given a simple network with $N$ nodes and $M$ edges, we can construct a configuration random network as the following:\n",
    "\n",
    "<img src='Images/config.png'>"
   ]
  },
  {
   "cell_type": "markdown",
   "metadata": {
    "slideshow": {
     "slide_type": "notes"
    }
   },
   "source": [
    "* For each edge in the network, cut it into two halves - stubs.\n",
    "* Pick two from all the available stubs at random and join them as an edge.\n",
    "* Repeat the step above until no stubs are available. "
   ]
  },
  {
   "cell_type": "code",
   "execution_count": null,
   "metadata": {
    "slideshow": {
     "slide_type": "subslide"
    }
   },
   "outputs": [],
   "source": [
    "network=sample_degseq(d)\n",
    "network=simplify(network)"
   ]
  },
  {
   "cell_type": "markdown",
   "metadata": {
    "slideshow": {
     "slide_type": "slide"
    }
   },
   "source": [
    "### Small World Model\n",
    "\n",
    "* Small average distance\n",
    "* High clustering coefficient"
   ]
  },
  {
   "cell_type": "markdown",
   "metadata": {
    "slideshow": {
     "slide_type": "subslide"
    }
   },
   "source": [
    "#### Clustering Coefficient (Transitivity)\n",
    "\n",
    "* How many friends' of yours are themselves friends?\n",
    "* The fraction of connected triplets that are closed triangles\n",
    "    * A connected triplet is three nodes where at least two pairs of them are connected\n",
    "    * A triangle means that every pair of the three nodes are connected\n",
    "$$\n",
    "C=\\frac{3 N_\\Delta}{N_{\\wedge}}\n",
    "$$"
   ]
  },
  {
   "cell_type": "markdown",
   "metadata": {
    "slideshow": {
     "slide_type": "subslide"
    }
   },
   "source": [
    "#### Small World Network\n",
    "* $d\\sim \\log N$\n",
    "* $C \\sim O(N)$\n",
    "<img src='Images/smallworld.png'>"
   ]
  },
  {
   "cell_type": "markdown",
   "metadata": {
    "slideshow": {
     "slide_type": "subslide"
    }
   },
   "source": [
    "#### Small World Network\n",
    "\n",
    "<img src='Images/distance_clustering.png'>"
   ]
  },
  {
   "cell_type": "code",
   "execution_count": 2,
   "metadata": {
    "slideshow": {
     "slide_type": "subslide"
    }
   },
   "outputs": [
    {
     "ename": "ERROR",
     "evalue": "Error in sample_smallworld(1, 100, 5, 0.05): could not find function \"sample_smallworld\"\n",
     "output_type": "error",
     "traceback": [
      "Error in sample_smallworld(1, 100, 5, 0.05): could not find function \"sample_smallworld\"\nTraceback:\n"
     ]
    }
   ],
   "source": [
    "network=sample_smallworld(1, 100, 5, 0.05)\n",
    "network=simplify(network)"
   ]
  },
  {
   "cell_type": "markdown",
   "metadata": {
    "slideshow": {
     "slide_type": "slide"
    }
   },
   "source": [
    "### Scale-Free Networks\n",
    "\n",
    "* Generate networks with power-law degree distributions\n",
    "* Rich gets richer"
   ]
  },
  {
   "cell_type": "markdown",
   "metadata": {
    "slideshow": {
     "slide_type": "subslide"
    }
   },
   "source": [
    "#### Preferential Attachment\n",
    "\n",
    "* Start with a single node\n",
    "* At each step, introduce a new node\n",
    "    * Pick an existing node with the probability proportional to its degree\n",
    "    * connect the new node to this existing node\n",
    "* In the long run, the degree distribution will be power-law"
   ]
  },
  {
   "cell_type": "code",
   "execution_count": null,
   "metadata": {
    "slideshow": {
     "slide_type": "-"
    }
   },
   "outputs": [],
   "source": [
    "g = sample_pa(10000)\n",
    "degree_distribution(g)\n",
    "h=hist(degree(g),30)\n",
    "plot(h$counts,log='xy')"
   ]
  },
  {
   "cell_type": "markdown",
   "metadata": {
    "slideshow": {
     "slide_type": "slide"
    }
   },
   "source": [
    "### Further Readings\n",
    "* Relational event model (https://sites.google.com/site/linkscenterworkshopsna/modules/mini-modules1/relational-event-modeling)\n",
    "    * Similar to ERGM but focus on high-frequency interactions\n",
    "* Stochastic actor-oriented model (https://www.annualreviews.org/doi/abs/10.1146/annurev-statistics-060116-054035)\n",
    "* Dynamic network actor models \n",
    "    * Similar to relational event model but focuses on nodes (actors)"
   ]
  },
  {
   "cell_type": "markdown",
   "metadata": {
    "slideshow": {
     "slide_type": "slide"
    }
   },
   "source": [
    "### Excercise\n",
    "\n",
    "* Simulate 1000 networks from one of the random network models\n",
    "* Compare the mean distance and the clustering coefficient of the Florentine Family Network to those from the random networks"
   ]
  },
  {
   "cell_type": "code",
   "execution_count": null,
   "metadata": {
    "slideshow": {
     "slide_type": "subslide"
    }
   },
   "outputs": [],
   "source": [
    "c=numeric(1000)\n",
    "r=numeric(1000)\n",
    "for (i in 1:1000) {\n",
    "    random_network=erdos.renyi.game(vcount(G), ecount(G), type='gnm')\n",
    "    r[i]=diameter(random_network)\n",
    "    c[i]=transitivity(random_network, type='global')\n",
    "}"
   ]
  }
 ],
 "metadata": {
  "celltoolbar": "Slideshow",
  "kernelspec": {
   "display_name": "R",
   "language": "R",
   "name": "ir"
  },
  "language_info": {
   "codemirror_mode": "r",
   "file_extension": ".r",
   "mimetype": "text/x-r-source",
   "name": "R",
   "pygments_lexer": "r",
   "version": "3.4.4"
  },
  "toc": {
   "toc_cell": false,
   "toc_number_sections": false,
   "toc_threshold": 4,
   "toc_window_display": false
  }
 },
 "nbformat": 4,
 "nbformat_minor": 2
}
