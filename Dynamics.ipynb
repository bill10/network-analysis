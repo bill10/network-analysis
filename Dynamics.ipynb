{
 "cells": [
  {
   "cell_type": "markdown",
   "metadata": {
    "slideshow": {
     "slide_type": "slide"
    }
   },
   "source": [
    "## Network Dynamics"
   ]
  },
  {
   "cell_type": "markdown",
   "metadata": {
    "slideshow": {
     "slide_type": "slide"
    }
   },
   "source": [
    "### Epidemic Models\n",
    "\n",
    "* Describe how a disease spreads on a network\n",
    "* Predict disease prevalence\n",
    "* Provide a testbed for intervention strategies \n",
    "* Two classical models\n",
    "    * Susceptible-Infected-Susceptible (SIS) model\n",
    "    * Susceptible-Infected-Recovered (SIR) model"
   ]
  },
  {
   "cell_type": "markdown",
   "metadata": {
    "slideshow": {
     "slide_type": "subslide"
    }
   },
   "source": [
    "#### SIS Model\n",
    "* Every node is in one of two possible states: susceptible to or infected by a disease\n",
    "* At each time step\n",
    "    * Each infected node infects each of its neighbors with probability $\\alpha$\n",
    "    * Each infected node returns to susceptible with probability $\\beta$"
   ]
  },
  {
   "cell_type": "markdown",
   "metadata": {
    "slideshow": {
     "slide_type": "subslide"
    }
   },
   "source": [
    "#### SIR Model\n",
    "* Every node is in one of three possible states: susceptible to, infected by or recovered from a disease \n",
    "* At each time step\n",
    "    * Each infected node infects each of its neighbors with probability $\\alpha$\n",
    "    * Each infected node recovers with probability $\\beta$ and will never be infected again\n",
    "* Simulation (http://systems-sciences.uni-graz.at/etextbook/networks/sirnetwork.html)"
   ]
  },
  {
   "cell_type": "markdown",
   "metadata": {
    "slideshow": {
     "slide_type": "subslide"
    }
   },
   "source": [
    "#### Further Reading\n",
    "\n",
    "* https://statnet.github.io/nme/index.html"
   ]
  },
  {
   "cell_type": "markdown",
   "metadata": {
    "slideshow": {
     "slide_type": "slide"
    }
   },
   "source": [
    "### Opinion Formation Models\n",
    "\n",
    "* Every node is in one of $K$ possible states (opinions)\n",
    "* At each time step\n",
    "    * A node will pick a neighbor at random and \n",
    "    * Adopt that neighbor's state (opinion)\n",
    "* Simulation (https://math.berkeley.edu/~bgillesp/apps/voter/)"
   ]
  },
  {
   "cell_type": "markdown",
   "metadata": {
    "slideshow": {
     "slide_type": "subslide"
    }
   },
   "source": [
    "#### Evolving Opinion Formation Models\n",
    "\n",
    "* What if the network structure also changes?\n",
    "* At each time step, a node picks a neighbor at random\n",
    "    * With probability $\\alpha$, the node adopts the neibhor's opinion\n",
    "    * With probability $1-\\alpha$, the breaks the edge and connect to a random node in the network\n",
    "* https://github.com/bill10/Evolving-Voter"
   ]
  },
  {
   "cell_type": "markdown",
   "metadata": {
    "slideshow": {
     "slide_type": "subslide"
    }
   },
   "source": [
    "<img src='Images/voter.gif'>"
   ]
  }
 ],
 "metadata": {
  "celltoolbar": "Slideshow",
  "kernelspec": {
   "display_name": "R",
   "language": "R",
   "name": "ir"
  },
  "language_info": {
   "codemirror_mode": "r",
   "file_extension": ".r",
   "mimetype": "text/x-r-source",
   "name": "R",
   "pygments_lexer": "r",
   "version": "3.4.4"
  },
  "toc": {
   "toc_cell": false,
   "toc_number_sections": false,
   "toc_threshold": 4,
   "toc_window_display": false
  }
 },
 "nbformat": 4,
 "nbformat_minor": 2
}
