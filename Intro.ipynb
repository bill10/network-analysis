{
 "cells": [
  {
   "cell_type": "markdown",
   "metadata": {
    "slideshow": {
     "slide_type": "slide"
    }
   },
   "source": [
    "# Network Analysis for Data Scientists\n",
    "  \n",
    "  \n",
    "Bill Shi  \n",
    "bill10@email.unc.edu  \n",
    "Data Matters 2019"
   ]
  },
  {
   "cell_type": "markdown",
   "metadata": {
    "slideshow": {
     "slide_type": "slide"
    }
   },
   "source": [
    "## Getting Ready\n",
    "\n",
    "* Download and install R (https://cran.r-project.org/mirrors.html)\n",
    "* Download and install RStudio Desktop (free) (https://www.rstudio.com/products/rstudio/download/)\n",
    "* Open RStudio and install igraph https://igraph.org/r/\n",
    "* Download dataset from the Github Repo (https://github.com/bill10/network-analysis)\n",
    "* Download and install Gephi (https://gephi.org/)\n"
   ]
  },
  {
   "cell_type": "markdown",
   "metadata": {
    "slideshow": {
     "slide_type": "slide"
    }
   },
   "source": [
    "## Introduction"
   ]
  },
  {
   "cell_type": "markdown",
   "metadata": {
    "slideshow": {
     "slide_type": "slide"
    }
   },
   "source": [
    "### Why Networks\n",
    "\n",
    "We live in a connected world. "
   ]
  },
  {
   "cell_type": "markdown",
   "metadata": {
    "slideshow": {
     "slide_type": "subslide"
    }
   },
   "source": [
    "* Technical infrastructure: water supply, power grids, Internet, etc.\n",
    "<img src='Images/US.png'>"
   ]
  },
  {
   "cell_type": "markdown",
   "metadata": {
    "slideshow": {
     "slide_type": "subslide"
    }
   },
   "source": [
    "* Social networks: families and friends, Facebook, Twitter, etc.\n",
    "<img src='Images/social_networks.png'>"
   ]
  },
  {
   "cell_type": "markdown",
   "metadata": {
    "slideshow": {
     "slide_type": "subslide"
    }
   },
   "source": [
    "* Economic networks: financial transacitons, corporate partnerships, international trades, etc.\n",
    "<img src='Images/trades.png'>\n",
    "Lee, et al. (2015). Journal of Sustainable Metallurgy. 1. 10.1007/s40831-015-0007-7. "
   ]
  },
  {
   "cell_type": "markdown",
   "metadata": {
    "slideshow": {
     "slide_type": "subslide"
    }
   },
   "source": [
    "* Biological networks: neuronal networks, gene networks, food web, etc.\n",
    "<img src='Images/brain.png' width=\"800\">"
   ]
  },
  {
   "cell_type": "markdown",
   "metadata": {
    "slideshow": {
     "slide_type": "subslide"
    }
   },
   "source": [
    "* Cultural networks: semantic networks, language/literature/art connected by their similarities, etc. \n",
    "<img src='Images/wordnet.png'>"
   ]
  },
  {
   "cell_type": "markdown",
   "metadata": {
    "slideshow": {
     "slide_type": "subslide"
    }
   },
   "source": [
    "Networks describe how things are connected with each other."
   ]
  },
  {
   "cell_type": "markdown",
   "metadata": {
    "slideshow": {
     "slide_type": "slide"
    }
   },
   "source": [
    "### What Network Analysis can Do\n",
    "\n",
    "* Identify important parts or connections in a network: Pagerank  \n",
    "<img src='Images/google.png'>"
   ]
  },
  {
   "cell_type": "markdown",
   "metadata": {
    "slideshow": {
     "slide_type": "subslide"
    }
   },
   "source": [
    "* Predict interactions: recommender systems\n",
    "<img src='Images/recommender.png'>"
   ]
  },
  {
   "cell_type": "markdown",
   "metadata": {
    "slideshow": {
     "slide_type": "subslide"
    }
   },
   "source": [
    "* Reveal sub-structure or hierarchy: community detection  \n",
    "<img src='Images/blogs.png'>"
   ]
  },
  {
   "cell_type": "markdown",
   "metadata": {
    "slideshow": {
     "slide_type": "subslide"
    }
   },
   "source": [
    "* Path finding: shortest path from one node to another\n",
    "<img src='Images/map.png'>"
   ]
  },
  {
   "cell_type": "markdown",
   "metadata": {
    "slideshow": {
     "slide_type": "slide"
    }
   },
   "source": [
    "### Resources\n",
    "\n",
    "* \"Awesome Network Analysis\" (https://github.com/briatte/awesome-network-analysis)\n",
    "* NetSci Edu (https://sites.google.com/a/binghamton.edu/netscied/home)"
   ]
  },
  {
   "cell_type": "markdown",
   "metadata": {
    "slideshow": {
     "slide_type": "subslide"
    }
   },
   "source": [
    "<table>\n",
    "    <tr>\n",
    "        <td><img src='Images/newman.jpg'></td>\n",
    "        <td><img src='Images/barabasi.jpg'></td>\n",
    "        <td><img src='Images/statistical.jpg'></td>\n",
    "    </tr>\n",
    "</table>"
   ]
  },
  {
   "cell_type": "markdown",
   "metadata": {
    "slideshow": {
     "slide_type": "slide"
    }
   },
   "source": [
    "### OUTLINE\n",
    "\n",
    "1. Network literacy\n",
    "    1. Essential Concepts and Core Ideas \n",
    "    2. Network data collection and storage\n",
    "    2. Visualization and Descriptives \n",
    "3. Centrality Measures: Ranking Objects \n",
    "4. Community Detection: Clustering Objects \n",
    "5. Link Prediction: Recommendations\n",
    "6. Random Network Models\n",
    "7. Network Dynamics"
   ]
  },
  {
   "cell_type": "markdown",
   "metadata": {
    "slideshow": {
     "slide_type": "slide"
    }
   },
   "source": [
    "### Format\n",
    "\n",
    "* 40-minute lecture\n",
    "* Guided practices\n",
    "* 5 - 10 minute excises\n",
    "* **Questions anytime**"
   ]
  }
 ],
 "metadata": {
  "celltoolbar": "Slideshow",
  "kernelspec": {
   "display_name": "R",
   "language": "R",
   "name": "ir"
  },
  "language_info": {
   "codemirror_mode": "r",
   "file_extension": ".r",
   "mimetype": "text/x-r-source",
   "name": "R",
   "pygments_lexer": "r",
   "version": "3.4.4"
  },
  "toc": {
   "toc_cell": false,
   "toc_number_sections": false,
   "toc_section_display": "none",
   "toc_threshold": 4,
   "toc_window_display": false
  },
  "toc_position": {
   "left": "807.583px",
   "right": "20px",
   "top": "121px",
   "width": "249.74px"
  }
 },
 "nbformat": 4,
 "nbformat_minor": 2
}
